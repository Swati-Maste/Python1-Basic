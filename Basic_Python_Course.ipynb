{
  "nbformat": 4,
  "nbformat_minor": 0,
  "metadata": {
    "colab": {
      "name": "Basic_Python_Course.ipynb",
      "provenance": [],
      "collapsed_sections": []
    },
    "kernelspec": {
      "name": "python3",
      "display_name": "Python 3"
    },
    "language_info": {
      "name": "python"
    }
  },
  "cells": [
    {
      "cell_type": "markdown",
      "metadata": {
        "id": "wetf8IWjXk_x"
      },
      "source": [
        "#Python Basics\n",
        "Python is an interpreted, object-oriented, high-level programming language with dynamic semantics.\n",
        "Python's simple, easy to learn syntax emphasizes readability and therefore reduces the cost of program maintenance. \n",
        "Python supports modules and packages, which encourages program modularity and code reuse. "
      ]
    },
    {
      "cell_type": "markdown",
      "metadata": {
        "id": "rPozow0tcXDi"
      },
      "source": [
        "## Difference in python2 and python3\n",
        "Python2 to Python3\n",
        "\n",
        "1. Print statement to print function\n",
        "2. raw_input() to input() for taking user input "
      ]
    },
    {
      "cell_type": "markdown",
      "metadata": {
        "id": "uKIN1sLRdbNP"
      },
      "source": [
        "'#' is used for writing single line comments in python\n",
        "\n",
        "'\\n' is a new line character "
      ]
    },
    {
      "cell_type": "markdown",
      "metadata": {
        "id": "uLPEDVaHdtyP"
      },
      "source": [
        "## Getting started with python\n",
        "\n",
        "Hello World Program"
      ]
    },
    {
      "cell_type": "code",
      "metadata": {
        "colab": {
          "base_uri": "https://localhost:8080/"
        },
        "id": "DxjBRx9Kn5lc",
        "outputId": "72a8063f-a53a-46ca-c1e2-e5c14235ed8e"
      },
      "source": [
        "print(\"Hello World!\")"
      ],
      "execution_count": 1,
      "outputs": [
        {
          "output_type": "stream",
          "text": [
            "Hello World!\n"
          ],
          "name": "stdout"
        }
      ]
    },
    {
      "cell_type": "code",
      "metadata": {
        "colab": {
          "base_uri": "https://localhost:8080/"
        },
        "id": "dgWZHbUxoyFM",
        "outputId": "56c628b1-5442-4329-b4d0-fe6f54a348df"
      },
      "source": [
        "# Constants\n",
        "#Data values that stay the same every time a program is executed are known as constants.\n",
        "\n",
        "#numeric constants like 1,2 3..... and string constants like '123','hi' etc\n",
        "num=123\n",
        "print(num)\n",
        "str='hello'\n",
        "print(str)\n"
      ],
      "execution_count": null,
      "outputs": [
        {
          "output_type": "stream",
          "text": [
            "123\n",
            "hello\n"
          ],
          "name": "stdout"
        }
      ]
    },
    {
      "cell_type": "markdown",
      "metadata": {
        "id": "p8yra45wd-Z1"
      },
      "source": [
        "## Reserved words-\n",
        "The Python language reserves a small set of keywords that designate special language functionality. \n",
        "No object can have the same name as a reserved word.\n",
        "\n",
        "Reserved words are-false,None,True,break,if,else,elif,continue,and,or,not,as,assert,try,except,del,def,in,is,while,lambda,class,raise etc.."
      ]
    },
    {
      "cell_type": "markdown",
      "metadata": {
        "id": "igcQt3HeeSMh"
      },
      "source": [
        "##Variable- \n",
        "\n",
        "A variableis a Named place in memory.\n",
        "\n",
        "They are used for storing data and later retrieving data using variable 'name'\n",
        "you can choose the variable name (excpet from reserved words) and change the contents of the variable too."
      ]
    },
    {
      "cell_type": "code",
      "metadata": {
        "colab": {
          "base_uri": "https://localhost:8080/"
        },
        "id": "BfVrcQf6oyg4",
        "outputId": "cbe8dce1-7bcd-444e-e58e-77fbec8d42bd"
      },
      "source": [
        "a=10\n",
        "print('Initial value of a \\n',a)\n",
        "b='hi'\n",
        "print(\"Content in variable b is\\n\",b)\n",
        "a=50.4\n",
        "print('New value of a is\\n',a)  #here a and b are variables and can store value of any data type"
      ],
      "execution_count": null,
      "outputs": [
        {
          "output_type": "stream",
          "text": [
            "Initial value of a \n",
            " 10\n",
            "Content in variable b is\n",
            " hi\n",
            "New value of a is\n",
            " 50.4\n"
          ],
          "name": "stdout"
        }
      ]
    },
    {
      "cell_type": "code",
      "metadata": {
        "colab": {
          "base_uri": "https://localhost:8080/"
        },
        "id": "CabPkQicsyrz",
        "outputId": "0e2323df-a459-4d61-f5c3-caca4b84226d"
      },
      "source": [
        "# We can know the data type of a variable/data using built-in function \"type()\"\n",
        "\n",
        "a=3000\n",
        "b=33.55\n",
        "c='Hello World'\n",
        "print(\"Type of a is\",type(a))\n",
        "print(\"\\nType of b is\",type(b))\n",
        "print(\"\\n Type of c is\",type(c))\n",
        "\n",
        "print('-------------------')\n",
        "print(type(1))\n",
        "print(type('hi'))\n",
        "\n"
      ],
      "execution_count": null,
      "outputs": [
        {
          "output_type": "stream",
          "text": [
            "Type of a is <class 'int'>\n",
            "\n",
            "Type of b is <class 'float'>\n",
            "\n",
            " Type of c is <class 'str'>\n",
            "-------------------\n",
            "<class 'int'>\n",
            "<class 'str'>\n"
          ],
          "name": "stdout"
        }
      ]
    },
    {
      "cell_type": "code",
      "metadata": {
        "colab": {
          "base_uri": "https://localhost:8080/",
          "height": 296
        },
        "id": "slspq_CAwPjF",
        "outputId": "976fb4ea-5bdd-40e2-c37e-72ecd35a5f57"
      },
      "source": [
        "#'+' operator on strings is used to concatenate \n",
        "str1='Hello'\n",
        "str2='John'\n",
        "str3='Have a '+'nice day!'\n",
        "print(str1+str2)\n",
        "print('\\n',str3)\n",
        "print('\\n-----------------------------------------------\\n')\n",
        "\n",
        "num=10\n",
        "\n",
        "print(num+str1) # python knows the data type and hence throws an error when a string is tried to concatenate with other data type"
      ],
      "execution_count": null,
      "outputs": [
        {
          "output_type": "stream",
          "text": [
            "HelloJohn\n",
            "\n",
            " Have a nice day!\n",
            "\n",
            "-----------------------------------------------\n",
            "\n"
          ],
          "name": "stdout"
        },
        {
          "output_type": "error",
          "ename": "TypeError",
          "evalue": "ignored",
          "traceback": [
            "\u001b[0;31m---------------------------------------------------------------------------\u001b[0m",
            "\u001b[0;31mTypeError\u001b[0m                                 Traceback (most recent call last)",
            "\u001b[0;32m<ipython-input-21-0abaad396c8e>\u001b[0m in \u001b[0;36m<module>\u001b[0;34m()\u001b[0m\n\u001b[1;32m      9\u001b[0m \u001b[0mnum\u001b[0m\u001b[0;34m=\u001b[0m\u001b[0;36m10\u001b[0m\u001b[0;34m\u001b[0m\u001b[0;34m\u001b[0m\u001b[0m\n\u001b[1;32m     10\u001b[0m \u001b[0;34m\u001b[0m\u001b[0m\n\u001b[0;32m---> 11\u001b[0;31m \u001b[0mprint\u001b[0m\u001b[0;34m(\u001b[0m\u001b[0mnum\u001b[0m\u001b[0;34m+\u001b[0m\u001b[0mstr1\u001b[0m\u001b[0;34m)\u001b[0m \u001b[0;31m# python knows the data type and hence throws an error when a string is tried to concatenate with other data type\u001b[0m\u001b[0;34m\u001b[0m\u001b[0;34m\u001b[0m\u001b[0m\n\u001b[0m",
            "\u001b[0;31mTypeError\u001b[0m: unsupported operand type(s) for +: 'int' and 'str'"
          ]
        }
      ]
    },
    {
      "cell_type": "markdown",
      "metadata": {
        "id": "dZ6-UZmFfKBL"
      },
      "source": [
        "##Expressions\n",
        "A sequence of operands and operators, like a + b - 5 , is called an expression.\n",
        "\n",
        " Python supports many operators for combining data objects into expressions.example:*./,+,-,%\n",
        "\n",
        "Precedence of operators is \n",
        "1. parenthesis\n",
        "2. power\n",
        "3. multiplication/division\n",
        "4.Addition/Subtraction\n",
        "\n",
        "Assocativity is Left to Right"
      ]
    },
    {
      "cell_type": "code",
      "metadata": {
        "colab": {
          "base_uri": "https://localhost:8080/"
        },
        "id": "YuCFR9VFt-QV",
        "outputId": "bf0055c4-cb22-4d7f-f2d4-809f540efab6"
      },
      "source": [
        "exp= 1+2**3/4*5\n",
        "print(\"Value of the given expression is \",exp)\n",
        " "
      ],
      "execution_count": null,
      "outputs": [
        {
          "output_type": "stream",
          "text": [
            "Value of the given expression is  11.0\n"
          ],
          "name": "stdout"
        }
      ]
    },
    {
      "cell_type": "markdown",
      "metadata": {
        "id": "-G_m1e39ffbm"
      },
      "source": [
        "##Type Conversions- \n",
        "1. Implicit \n",
        "2. Explicit\n",
        "\n",
        "In Implicit type conversion, Python automatically converts one data type to another data type. This process doesn't need any user involvement. "
      ]
    },
    {
      "cell_type": "code",
      "metadata": {
        "colab": {
          "base_uri": "https://localhost:8080/"
        },
        "id": "MD09onnOt-nC",
        "outputId": "6ac63543-b23b-47ff-ea85-873cacb6d9ef"
      },
      "source": [
        "\n",
        "#Let's see an example where Python promotes the conversion of the lower data type (integer) to the higher data type (float) to avoid data loss.\n",
        "\n",
        "print(float(19) + 100) #integer 100 is implicitly converted into float and the addition is peformed\n",
        "\n",
        "a=10\n",
        "b=float(20.4)\n",
        "c=a+b\n",
        "print('Type of a is',a,'\\n')\n",
        "print('Type of b is',b,'\\n')\n",
        "print('Value of c is ',c ,'\\n type of c is',type(c))"
      ],
      "execution_count": null,
      "outputs": [
        {
          "output_type": "stream",
          "text": [
            "119.0\n",
            "Type of a is 10 \n",
            "\n",
            "Type of b is 20.4 \n",
            "\n",
            "Value of c is  30.4 \n",
            " type of c is <class 'float'>\n"
          ],
          "name": "stdout"
        }
      ]
    },
    {
      "cell_type": "code",
      "metadata": {
        "colab": {
          "base_uri": "https://localhost:8080/"
        },
        "id": "hIfPBROKzmJG",
        "outputId": "a9e32300-ce4c-4eb6-bf3c-c837c67a8d3b"
      },
      "source": [
        "# Integer Division like 8/4 gives result in float\n",
        "print(8/4)\n",
        "c=10/5    #implicit type conversion\n",
        "print(type(c))"
      ],
      "execution_count": null,
      "outputs": [
        {
          "output_type": "stream",
          "text": [
            "2.0\n",
            "<class 'float'>\n"
          ],
          "name": "stdout"
        }
      ]
    },
    {
      "cell_type": "code",
      "metadata": {
        "colab": {
          "base_uri": "https://localhost:8080/",
          "height": 296
        },
        "id": "mHRckcyX0ClX",
        "outputId": "cd1d4342-0e9a-4bc1-c305-31d615cb4ab0"
      },
      "source": [
        "# String Conversion (EXPLICIT CONVERSION)\n",
        "#We can convert strings into integer and float using functions int() and float()\n",
        "#Gives ERROR if the string does not contain a numeric value\n",
        "\n",
        "str='123'\n",
        "print(type(str))\n",
        "\n",
        "str_2_int=int(str)\n",
        "print('Value after explicit conversion is',str_2_int,'\\n type is ',type(str_2_int))\n",
        "print('\\n------------------------------\\n')\n",
        "\n",
        "str1='John'\n",
        "print(int(str1))  #Throws error as string isn't a numeric value hence conversion is not possible"
      ],
      "execution_count": null,
      "outputs": [
        {
          "output_type": "stream",
          "text": [
            "<class 'str'>\n",
            "Value after explicit conversion is 123 \n",
            " type is  <class 'int'>\n",
            "\n",
            "------------------------------\n",
            "\n"
          ],
          "name": "stdout"
        },
        {
          "output_type": "error",
          "ename": "ValueError",
          "evalue": "ignored",
          "traceback": [
            "\u001b[0;31m---------------------------------------------------------------------------\u001b[0m",
            "\u001b[0;31mValueError\u001b[0m                                Traceback (most recent call last)",
            "\u001b[0;32m<ipython-input-32-0d57435e7519>\u001b[0m in \u001b[0;36m<module>\u001b[0;34m()\u001b[0m\n\u001b[1;32m     11\u001b[0m \u001b[0;34m\u001b[0m\u001b[0m\n\u001b[1;32m     12\u001b[0m \u001b[0mstr1\u001b[0m\u001b[0;34m=\u001b[0m\u001b[0;34m'John'\u001b[0m\u001b[0;34m\u001b[0m\u001b[0;34m\u001b[0m\u001b[0m\n\u001b[0;32m---> 13\u001b[0;31m \u001b[0mprint\u001b[0m\u001b[0;34m(\u001b[0m\u001b[0mint\u001b[0m\u001b[0;34m(\u001b[0m\u001b[0mstr1\u001b[0m\u001b[0;34m)\u001b[0m\u001b[0;34m)\u001b[0m\u001b[0;34m\u001b[0m\u001b[0;34m\u001b[0m\u001b[0m\n\u001b[0m",
            "\u001b[0;31mValueError\u001b[0m: invalid literal for int() with base 10: 'John'"
          ]
        }
      ]
    },
    {
      "cell_type": "markdown",
      "metadata": {
        "id": "iE1wV8mSf3nz"
      },
      "source": [
        "##Taking user input-\n",
        " using built-in function input()\n",
        "\n",
        "By default input() gives all the input values as string ,hence it has to be explicitly converted into int/float whenever necessary"
      ]
    },
    {
      "cell_type": "code",
      "metadata": {
        "colab": {
          "base_uri": "https://localhost:8080/"
        },
        "id": "SCoUuVsS1sip",
        "outputId": "c548b608-b408-422b-c184-353e95df1b7e"
      },
      "source": [
        "# example 1\n",
        "a=input('enter your Roll number ')\n",
        "print('Type of a is',type(a))\n",
        "b=int(a)\n",
        "print('Type of b is',type(b)) # explicit conversion is required to convert a string into int"
      ],
      "execution_count": null,
      "outputs": [
        {
          "output_type": "stream",
          "text": [
            "enter your Roll number 450\n",
            "Type of a is <class 'str'>\n",
            "Type of b is <class 'int'>\n"
          ],
          "name": "stdout"
        }
      ]
    },
    {
      "cell_type": "code",
      "metadata": {
        "colab": {
          "base_uri": "https://localhost:8080/"
        },
        "id": "suMh5ouo3Ib1",
        "outputId": "de028934-4b58-4160-e1fd-21fd7f672e4f"
      },
      "source": [
        "# example 2\n",
        "name= input(\"Enter your name \")\n",
        "print('Welcome '+ name) # string concatenation"
      ],
      "execution_count": null,
      "outputs": [
        {
          "output_type": "stream",
          "text": [
            "Enter your name sam\n",
            "Welcome sam\n"
          ],
          "name": "stdout"
        }
      ]
    },
    {
      "cell_type": "code",
      "metadata": {
        "colab": {
          "base_uri": "https://localhost:8080/"
        },
        "id": "iJ78b74t132-",
        "outputId": "1f420dcb-e1bd-4225-e43e-433b2f7abd74"
      },
      "source": [
        "# ex-3 Incrementing a number by 5\n",
        "num=input('Enter a number: ')\n",
        "a= int(num)+5    # needs explicit type coversion\n",
        "print('Converted value is ',a)"
      ],
      "execution_count": null,
      "outputs": [
        {
          "output_type": "stream",
          "text": [
            "Enter a number: 45\n",
            "Converted value is  50\n"
          ],
          "name": "stdout"
        }
      ]
    },
    {
      "cell_type": "markdown",
      "metadata": {
        "id": "auiyP14gg1EU"
      },
      "source": [
        "## String Format function\n",
        "Format Function in Python (str. format()) is technique of the string category permits you to try and do variable substitutions and data formatting. It enables you to concatenate parts of a string at desired intervals through point data format."
      ]
    },
    {
      "cell_type": "code",
      "metadata": {
        "colab": {
          "base_uri": "https://localhost:8080/"
        },
        "id": "KpZ0FiS9XByF",
        "outputId": "387476ad-2fd7-4354-a7f6-0bdfd128127a"
      },
      "source": [
        "# example of format function- Sum of two numbers\n",
        "num1=2\n",
        "num2=2\n",
        "sum=num1+num2\n",
        "print(\"sum of {0} and {1} is {2}\".format(num1,num2,sum))"
      ],
      "execution_count": null,
      "outputs": [
        {
          "output_type": "stream",
          "text": [
            "sum of 2 and 2 is 4\n"
          ],
          "name": "stdout"
        }
      ]
    },
    {
      "cell_type": "markdown",
      "metadata": {
        "id": "Gccg6ljIiPbL"
      },
      "source": [
        "##Comparison operators\n",
        "\n",
        "Comparison operators help us to compare variables and output a boolean value.\n",
        "![comparison op.png](data:image/png;base64,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)\n"
      ]
    },
    {
      "cell_type": "markdown",
      "metadata": {
        "id": "H1Yl-RYDlf6X"
      },
      "source": [
        "## Indentation in Python\n",
        "\n",
        "Python uses indentation to highlight the blocks of code. Whitespace is used for indentation in Python. All statements with the same distance to the right belong to the same block of code. If a block has to be more deeply nested, it is simply indented further to the right.\n",
        "\n",
        "![ident1.png](data:image/png;base64,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)"
      ]
    },
    {
      "cell_type": "markdown",
      "metadata": {
        "id": "LpApaiHojXrN"
      },
      "source": [
        "## Conditions"
      ]
    },
    {
      "cell_type": "code",
      "metadata": {
        "colab": {
          "base_uri": "https://localhost:8080/"
        },
        "id": "WWMVhdomjdz8",
        "outputId": "cace0387-f934-40f2-cedf-3e265a5847ef"
      },
      "source": [
        "# One-way desicion using \"if condition\"\n",
        "\n",
        "num=21\n",
        "if num==2:\n",
        "  print(\"Number is 2\")\n",
        "if num>0:\n",
        "  print(\"Positive number\")"
      ],
      "execution_count": 2,
      "outputs": [
        {
          "output_type": "stream",
          "text": [
            "Positive number\n"
          ],
          "name": "stdout"
        }
      ]
    },
    {
      "cell_type": "code",
      "metadata": {
        "colab": {
          "base_uri": "https://localhost:8080/"
        },
        "id": "rGZe0H7OjpoW",
        "outputId": "9fbf2f42-7562-4554-87ef-b78897ed21ad"
      },
      "source": [
        "# 2-way decision using if-else condition\n",
        "\n",
        "num=10\n",
        "if num>20:\n",
        "   print(num,'is greater than 20')\n",
        "else:\n",
        "  print(num,\"is smaller than 20\")"
      ],
      "execution_count": 3,
      "outputs": [
        {
          "output_type": "stream",
          "text": [
            "10 is smaller than 20\n"
          ],
          "name": "stdout"
        }
      ]
    },
    {
      "cell_type": "code",
      "metadata": {
        "colab": {
          "base_uri": "https://localhost:8080/"
        },
        "id": "ExpFcci9lqe0",
        "outputId": "47d18186-ec6d-41c6-d912-04cfc5ede56b"
      },
      "source": [
        "# Nested if (Take care of the indentation)\n",
        "\n",
        "num=int(input(\"Enter a number\"))\n",
        "if num>=0:\n",
        "  if num==0:\n",
        "    print(\"Number is zero\")\n",
        "  else:\n",
        "    print(\"It's a positive number\")\n",
        "else:\n",
        "  print(\"Its a negative number\")\n"
      ],
      "execution_count": 8,
      "outputs": [
        {
          "output_type": "stream",
          "text": [
            "Enter a number4\n",
            "It's a positive number\n"
          ],
          "name": "stdout"
        }
      ]
    },
    {
      "cell_type": "markdown",
      "metadata": {
        "id": "ltxWHdZ41xQY"
      },
      "source": [
        "## Exception Handling\n",
        "An exception is the run-time errors. Whenever an exception occurs, the program stops the execution, and thus the further code is not executed\n",
        "\n",
        "### Try-except clause\n",
        "The try block lets you test a block of code for errors. The except block lets you handle the error.This way the error is handled and entire code is not stopped from execution."
      ]
    },
    {
      "cell_type": "code",
      "metadata": {
        "colab": {
          "base_uri": "https://localhost:8080/"
        },
        "id": "-l-2fP4j1V70",
        "outputId": "34ba484a-362f-4513-90d4-fc5f97cbacd4"
      },
      "source": [
        "# example demonstrating exception handling\n",
        "# we know that whenever a non-numeric string is tried to convert into int() or float() explicitly an exception occurs ,\n",
        "# let's handle this error by try-except clause\n",
        "\n",
        "str=input('Enter a number/string ')\n",
        "try:\n",
        "  i_str=int(str)\n",
        "except:\n",
        "  i_str=-1  # -1 indicates it was a non-numeric string and hence can't be converted into int\n",
        "\n",
        "\n",
        "if i_str==-1:\n",
        "  print(\"Sorry!! You have entered a non-numeric string and it cannot be converted into int. Please try entering a numeric string \")\n",
        "else:\n",
        "  print(\"The integer value is \",i_str)"
      ],
      "execution_count": 11,
      "outputs": [
        {
          "output_type": "stream",
          "text": [
            "Enter a number/string j\n",
            "Sorry!! You have entered a non-numeric string and it cannot be converted into int. Please try entering a numeric string \n"
          ],
          "name": "stdout"
        }
      ]
    },
    {
      "cell_type": "markdown",
      "metadata": {
        "id": "D7_1F1Du5QPM"
      },
      "source": [
        "## **Functions**\n",
        "1. Built-in\n",
        "2. User defined\n",
        "\n",
        "A function is a block of organized, reusable code that is used to perform a single, related action. ... As you already know, Python gives you many built-in functions like print(), etc. but you can also create your own functions. These functions are called user-defined functions.\n",
        "\n",
        "####***Steps for defining a function:***\n",
        "1. Begin the definition of a new function with def .\n",
        "2. Followed by the name of the function.( Must obey the same rules as variable names.)\n",
        "3. Then parameters in parentheses. ...\n",
        "4. Then a colon.\n",
        "5. Then an indented block of code"
      ]
    },
    {
      "cell_type": "code",
      "metadata": {
        "colab": {
          "base_uri": "https://localhost:8080/"
        },
        "id": "3448Viu25jSI",
        "outputId": "65cea739-d373-4737-e059-08dc5dd285ac"
      },
      "source": [
        "# example -1\n",
        "def my_fun():\n",
        "  print(\"This is inside the function and will print only if the function is called\\n\")\n",
        "\n",
        "print(\"Before function call\\n\")\n",
        "my_fun()  # we have to use function name to call the function\n",
        "print(\"After function call\")"
      ],
      "execution_count": 12,
      "outputs": [
        {
          "output_type": "stream",
          "text": [
            "Before function call\n",
            "\n",
            "This is inside the function and will print only if the function is called\n",
            "\n",
            "After function call\n"
          ],
          "name": "stdout"
        }
      ]
    },
    {
      "cell_type": "markdown",
      "metadata": {
        "id": "GQEubSkK8u5i"
      },
      "source": [
        "### Functions with Arguments"
      ]
    },
    {
      "cell_type": "code",
      "metadata": {
        "colab": {
          "base_uri": "https://localhost:8080/"
        },
        "id": "sGq4feSd81JK",
        "outputId": "a89d4a9e-ccdd-4af9-ee66-88d980a7af69"
      },
      "source": [
        "# example-1\n",
        "\n",
        "def addition(n1,n2):   # function takes 2 arguments\n",
        "  add=num1+num2\n",
        "  return sum\n",
        "\n",
        "\n",
        "num1 = int(input(\"Enter the first number\"))\n",
        "num2 = int(input(\"\\nEnter the second number\"))\n",
        "sum=addition(num1,num2)          # we must pass correct number of parameters while calling the function\n",
        "print(\"Sum of\",num1,\"and\",num2,\"is\",sum)"
      ],
      "execution_count": 13,
      "outputs": [
        {
          "output_type": "stream",
          "text": [
            "Enter the first number4\n",
            "\n",
            "Enter the second number5\n",
            "Sum of 4 and 5 is 9\n"
          ],
          "name": "stdout"
        }
      ]
    },
    {
      "cell_type": "markdown",
      "metadata": {
        "id": "V81r2Kr2N1tl"
      },
      "source": [
        "### Function: Return Values\n",
        "A return statement is used to end the execution of the function call and “returns” the result (value of the expression following the return keyword) to the caller. \n",
        "\n",
        "The statements after the return statements are not executed. If the return statement is without any expression, then the special value None is returned."
      ]
    },
    {
      "cell_type": "code",
      "metadata": {
        "colab": {
          "base_uri": "https://localhost:8080/"
        },
        "id": "YK5D_PYiPQYd",
        "outputId": "889fd74c-2bd1-47a0-8161-16a27e6c35fe"
      },
      "source": [
        "# ex-1\n",
        "def greet():\n",
        "   return \"Hello\"\n",
        "\n",
        "\n",
        "print(greet(),\"Sally\")\n",
        "print(greet(),\"Varsha\")"
      ],
      "execution_count": 3,
      "outputs": [
        {
          "output_type": "stream",
          "text": [
            "Hello Sally\n",
            "Hello Varsha\n"
          ],
          "name": "stdout"
        }
      ]
    },
    {
      "cell_type": "markdown",
      "metadata": {
        "id": "9w8QNX6vQyKi"
      },
      "source": [
        "## Loops and iteration\n",
        "###Loop:\n",
        "When a sequence of instructions is executed in a repeated manner, it is called a loop.\n",
        "\n",
        "### Iteration:\n",
        "Iteration is a process wherein a set of instructions or structures are repeated in a sequence a specified number of times or until a condition is met. "
      ]
    },
    {
      "cell_type": "markdown",
      "metadata": {
        "id": "TzJY53nSRrt-"
      },
      "source": [
        "### 1. While loop"
      ]
    },
    {
      "cell_type": "code",
      "metadata": {
        "colab": {
          "base_uri": "https://localhost:8080/"
        },
        "id": "q1Qg3pPrRc7s",
        "outputId": "84ecde0f-dc33-4efa-fe4b-ed702103aeeb"
      },
      "source": [
        "# ex-1\n",
        "\n",
        "count=0\n",
        "\n",
        "while(count<3):\n",
        "  count=count+1\n",
        "  print(\"Hello!\")  # executes for count=0,1 and 2 and terminates at count=3"
      ],
      "execution_count": 4,
      "outputs": [
        {
          "output_type": "stream",
          "text": [
            "Hello!\n",
            "Hello!\n",
            "Hello!\n"
          ],
          "name": "stdout"
        }
      ]
    },
    {
      "cell_type": "markdown",
      "metadata": {
        "id": "DLNiXb6SSZIY"
      },
      "source": [
        "### Break and Continue\n",
        "Break ends the loop and executes the statement following the loop(breaks out of the entire loop)\n",
        "\n",
        "where as,\n",
        "\n",
        "Continue ends the iteration and executes the next iteration of the loop( continues back to the beginning of the loop)\n"
      ]
    },
    {
      "cell_type": "code",
      "metadata": {
        "colab": {
          "base_uri": "https://localhost:8080/"
        },
        "id": "7NRur3SVTMWn",
        "outputId": "99949405-2867-4318-a2dd-83ea4d159871"
      },
      "source": [
        "#example:\n",
        "\n",
        "while True:\n",
        "  inp=input(\"Enter \")\n",
        "  if inp==\"#\":\n",
        "    continue\n",
        "  if inp==\"Done\":  # Program terminates only if input is \"Done\" else acts as a infinite loop\n",
        "      break\n",
        "  else:\n",
        "    print(inp)\n",
        "print(\" Break executed\")"
      ],
      "execution_count": 6,
      "outputs": [
        {
          "output_type": "stream",
          "text": [
            "Enter Hello\n",
            "Hello\n",
            "Enter #\n",
            "Enter Hi\n",
            "Hi\n",
            "Enter done\n",
            "done\n",
            "Enter Done\n",
            " Break executed\n"
          ],
          "name": "stdout"
        }
      ]
    },
    {
      "cell_type": "markdown",
      "metadata": {
        "id": "1ulf1NAZWI6Y"
      },
      "source": [
        "### 2. For Loop\n",
        "\n",
        "For loop can be used only on an iterable (that is either a list, a tuple, a dictionary, a set, or a string). "
      ]
    },
    {
      "cell_type": "code",
      "metadata": {
        "colab": {
          "base_uri": "https://localhost:8080/"
        },
        "id": "3NweLygUUyss",
        "outputId": "0e98fb0f-28b4-4356-9332-92c72cc5f3ec"
      },
      "source": [
        "# ex-1 Iterating over a list\n",
        "items=[\"mango\",\"bag\", 4.5,0,\"paper\"]\n",
        "for i in items:\n",
        "  print(i) "
      ],
      "execution_count": 7,
      "outputs": [
        {
          "output_type": "stream",
          "text": [
            "mango\n",
            "bag\n",
            "4.5\n",
            "0\n",
            "paper\n"
          ],
          "name": "stdout"
        }
      ]
    },
    {
      "cell_type": "code",
      "metadata": {
        "colab": {
          "base_uri": "https://localhost:8080/"
        },
        "id": "adcG4FdEXTp7",
        "outputId": "47bc7cbb-d250-4e6d-edad-ccda32289e7b"
      },
      "source": [
        "# ex-2 using range function\n",
        "\n",
        "bag=[\"pen\",5,\"money\"]\n",
        "for i in range(len(bag)):   #len(bag)->3 and range(3)->[0,1,2]\n",
        "  print(i,\"hello\")\n"
      ],
      "execution_count": 9,
      "outputs": [
        {
          "output_type": "stream",
          "text": [
            "0 hello\n",
            "1 hello\n",
            "2 hello\n"
          ],
          "name": "stdout"
        }
      ]
    },
    {
      "cell_type": "code",
      "metadata": {
        "colab": {
          "base_uri": "https://localhost:8080/"
        },
        "id": "jvCe5F0sYMlY",
        "outputId": "9de73f06-8f18-4d15-e942-a483fa0ae838"
      },
      "source": [
        "#ex-3 FInding the largest number\n",
        "\n",
        "largest_so_far=-1 # initializing\n",
        "num_list=[30,7,0,12,32,45,4,70,35,90]\n",
        "for i in num_list:\n",
        "  if i>largest_so_far:\n",
        "    largest_so_far=i\n",
        "  print(largest_so_far,i)  # largest number, the current iteration value from the num_list \n",
        "\n",
        "print(\"The largest number after end of the loop is\",largest_so_far)\n"
      ],
      "execution_count": 11,
      "outputs": [
        {
          "output_type": "stream",
          "text": [
            "30 30\n",
            "30 7\n",
            "30 0\n",
            "30 12\n",
            "32 32\n",
            "45 45\n",
            "45 4\n",
            "70 70\n",
            "70 35\n",
            "90 90\n",
            "The largest number after end of the loop is 90\n"
          ],
          "name": "stdout"
        }
      ]
    },
    {
      "cell_type": "markdown",
      "metadata": {
        "id": "T-8EL6VnZyLd"
      },
      "source": [
        "### END"
      ]
    }
  ]
}